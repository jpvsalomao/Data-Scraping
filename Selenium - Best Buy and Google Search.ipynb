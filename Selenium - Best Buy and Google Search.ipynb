{
 "cells": [
  {
   "cell_type": "code",
   "execution_count": 1,
   "id": "b0d36273",
   "metadata": {},
   "outputs": [],
   "source": [
    "from selenium.webdriver.common.keys import Keys\n",
    "from selenium import webdriver\n",
    "import time"
   ]
  },
  {
   "cell_type": "code",
   "execution_count": 2,
   "id": "c560bbfc",
   "metadata": {},
   "outputs": [],
   "source": [
    "import warnings\n",
    "warnings.filterwarnings('ignore')"
   ]
  },
  {
   "cell_type": "markdown",
   "id": "2dac7f83",
   "metadata": {},
   "source": [
    "### Best Buy"
   ]
  },
  {
   "cell_type": "code",
   "execution_count": 7,
   "id": "06274878",
   "metadata": {},
   "outputs": [
    {
     "name": "stdout",
     "output_type": "stream",
     "text": [
      "Deal ends in 6:01:32\n"
     ]
    }
   ],
   "source": [
    "## Opening the browser\n",
    "driver = webdriver.Firefox(executable_path=r'/Users/joaopedro/Downloads/geckodriver 2')\n",
    "driver.get(\"https://bestbuy.com\")\n",
    "\n",
    "## Click deal of the day\n",
    "deal = driver.find_element_by_xpath(\"//a[text()='Deal of the Day']\")\n",
    "deal.click()\n",
    "\n",
    "time.sleep(2)\n",
    "\n",
    "## Print time left\n",
    "time_left = driver.find_element_by_tag_name(\"span[data-testid='expiration-message']\").text\n",
    "print(time_left)\n",
    "\n",
    "time.sleep(2)\n",
    "\n",
    "## Click on product\n",
    "product = driver.find_element_by_tag_name(\"a[class='wf-offer-link v-line-clamp ']\")\n",
    "product.click()\n",
    "\n",
    "time.sleep(2)\n",
    "\n",
    "## Click on reviews\n",
    "reviews = driver.find_element_by_tag_name(\"span[class='c-reviews order-2']\")\n",
    "reviews.click()\n",
    "\n",
    "time.sleep(2)\n",
    "\n",
    "## Save HTML\n",
    "with open(\"bestbuy_deal_of_the_day.html\", \"w\") as f:\n",
    "    f.write(driver.page_source)"
   ]
  },
  {
   "cell_type": "markdown",
   "id": "9dd6e2e5",
   "metadata": {},
   "source": [
    "## Google Search"
   ]
  },
  {
   "cell_type": "code",
   "execution_count": 3,
   "id": "1f4ec167",
   "metadata": {},
   "outputs": [],
   "source": [
    "## Opening the browser\n",
    "driver = webdriver.Firefox(executable_path=r'/Users/joaopedro/Downloads/geckodriver 2')\n",
    "driver.get(\"https://google.com\")\n",
    "\n",
    "time.sleep(2)\n",
    "\n",
    "## Search 'askew'\n",
    "inp = driver.find_element_by_css_selector(\"input[type=text]\")\n",
    "inp.send_keys(\"askew\\n\")\n",
    "inp.send_keys(Keys.ENTER)\n",
    "\n",
    "time.sleep(2)\n",
    "\n",
    "## Search 'google in 1998'\n",
    "driver.get(\"https://google.com\")\n",
    "inp2 = driver.find_element_by_css_selector(\"input[type=text]\")\n",
    "inp2.send_keys(\"google in 1998\\n\")\n",
    "inp2.send_keys(Keys.ENTER)"
   ]
  }
 ],
 "metadata": {
  "kernelspec": {
   "display_name": "Python 3 (ipykernel)",
   "language": "python",
   "name": "python3"
  },
  "language_info": {
   "codemirror_mode": {
    "name": "ipython",
    "version": 3
   },
   "file_extension": ".py",
   "mimetype": "text/x-python",
   "name": "python",
   "nbconvert_exporter": "python",
   "pygments_lexer": "ipython3",
   "version": "3.9.7"
  }
 },
 "nbformat": 4,
 "nbformat_minor": 5
}
